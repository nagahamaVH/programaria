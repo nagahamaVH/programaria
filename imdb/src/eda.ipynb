{
  "cells": [
    {
      "cell_type": "markdown",
      "metadata": {
        "id": "8_OGesdkHSNV",
        "colab_type": "text"
      },
      "source": [
        "# Data Exploration Analysis (EDA)\n",
        "\n",
        "This notebook provides insights to create a regression/classification model to predict the scores of movies (```imdb_score```)"
      ]
    },
    {
      "cell_type": "code",
      "metadata": {
        "id": "pod9iXZVHSNX",
        "colab_type": "code",
        "colab": {}
      },
      "source": [
        "import numpy as np\n",
        "import pandas as pd\n",
        "from scipy import stats\n",
        "from plotnine import *\n",
        "import seaborn as sns\n",
        "import matplotlib.pyplot as plt\n",
        "import plotly.express as px\n",
        "import os\n",
        "import itertools"
      ],
      "execution_count": null,
      "outputs": []
    },
    {
      "cell_type": "code",
      "metadata": {
        "id": "gtpXxFAYHSNi",
        "colab_type": "code",
        "outputId": "e832f760-afce-4e54-a011-61d8f940c379",
        "colab": {
          "base_uri": "https://localhost:8080/",
          "height": 34
        }
      },
      "source": [
        "# Get working directory\n",
        "os.getcwd()"
      ],
      "execution_count": null,
      "outputs": []
    },
    {
      "cell_type": "code",
      "metadata": {
        "id": "cTBwJ75OHSN6",
        "colab_type": "code",
        "colab": {}
      },
      "source": [
        "# Read data\n",
        "imdb = pd.read_csv('../data/movie_metadata.csv')"
      ],
      "execution_count": null,
      "outputs": []
    },
    {
      "cell_type": "code",
      "metadata": {
        "id": "mpxSERnDHSN_",
        "colab_type": "code",
        "outputId": "08588cba-f30f-46e8-fa27-34d7a8fd17ed",
        "colab": {
          "base_uri": "https://localhost:8080/",
          "height": 510
        }
      },
      "source": [
        "# Inspecting type of columns\n",
        "imdb.dtypes"
      ],
      "execution_count": null,
      "outputs": []
    },
    {
      "cell_type": "code",
      "metadata": {
        "id": "ClH0WOcNHSOE",
        "colab_type": "code",
        "outputId": "e9b1200b-b50f-4037-a0cc-98b6f1cf182c",
        "colab": {
          "base_uri": "https://localhost:8080/",
          "height": 360
        }
      },
      "source": [
        "# Inspecting data\n",
        "imdb.head()"
      ],
      "execution_count": null,
      "outputs": []
    },
    {
      "cell_type": "code",
      "metadata": {
        "id": "a0nkm9SmHSOI",
        "colab_type": "code",
        "colab": {}
      },
      "source": [
        "# Transforming type of variable\n",
        "imdb['aspect_ratio'] = imdb['aspect_ratio'].astype('object')\n",
        "\n",
        "# Adding the imdb_score categorized\n",
        "imdb['categorical_imdb_score'] = pd.cut(imdb['imdb_score'], bins=[0, 4, 6, 8, 10], right=True, labels=False) + 1\n",
        "\n",
        "# Removing uninformative column\n",
        "imdb.drop(['movie_imdb_link', 'movie_title'], axis=1, inplace=True)\n",
        "\n",
        "imdb.head()"
      ],
      "execution_count": null,
      "outputs": []
    },
    {
      "cell_type": "code",
      "metadata": {
        "id": "N-bkldBSHSOU",
        "colab_type": "code",
        "outputId": "b9b33d82-5737-49cf-8787-8b34c483edcf",
        "colab": {
          "base_uri": "https://localhost:8080/",
          "height": 493
        }
      },
      "source": [
        "# Summarizing missing columns\n",
        "imdb.isna().sum().sort_values(ascending=False)"
      ],
      "execution_count": null,
      "outputs": []
    },
    {
      "cell_type": "markdown",
      "metadata": {
        "id": "e1yyd2I2HSOY",
        "colab_type": "text"
      },
      "source": [
        "## Handling with multi level of categorical variables"
      ]
    },
    {
      "cell_type": "markdown",
      "metadata": {
        "id": "bsy44JOLHSOZ",
        "colab_type": "text"
      },
      "source": [
        "Notice that ```genres``` and ```plot_keywords``` have multiple categories for the same movies, in order to make these variables usable to model the ```categorical_imdb_score```  let's transform each of them in dummy variables"
      ]
    },
    {
      "cell_type": "markdown",
      "metadata": {
        "id": "WL2kW-mMM4Da",
        "colab_type": "text"
      },
      "source": [
        "### ```genres```"
      ]
    },
    {
      "cell_type": "code",
      "metadata": {
        "id": "L4Lq3X_vI5lM",
        "colab_type": "code",
        "outputId": "7a66e27b-21aa-4fa3-8f07-bcb7aa6a0939",
        "colab": {
          "base_uri": "https://localhost:8080/",
          "height": 34
        }
      },
      "source": [
        "# genres in list of lists\n",
        "genres_list = imdb['genres'].str.split('|').tolist()\n",
        "\n",
        "# Unique genres\n",
        "unique_genres = set(list(itertools.chain.from_iterable(genres_list)))\n",
        "\n",
        "len(unique_genres)"
      ],
      "execution_count": null,
      "outputs": []
    },
    {
      "cell_type": "markdown",
      "metadata": {
        "id": "9TZB9Q_QckBZ",
        "colab_type": "text"
      },
      "source": [
        "The length of unique genres is not so big, let's make then as dummy variables and explore the relation with ```categorical_imdb_score```"
      ]
    },
    {
      "cell_type": "code",
      "metadata": {
        "id": "4r-zQzVPNsUb",
        "colab_type": "code",
        "colab": {}
      },
      "source": [
        "genres_dummy = imdb['genres'].str.get_dummies()\n",
        "\n",
        "# Removing genres column\n",
        "imdb.drop(['genres'], axis=1, inplace=True)\n",
        "\n",
        "genres_dummy.head()"
      ],
      "execution_count": null,
      "outputs": []
    },
    {
      "cell_type": "code",
      "execution_count": null,
      "metadata": {},
      "outputs": [],
      "source": [
        "# Create DF with dummy variables and categorical_imdb_score\n",
        "genres_df = pd.concat([imdb['categorical_imdb_score'], genres_dummy], axis=1)\n",
        "\n",
        "# List of variables to generate the figure\n",
        "all_variables = genres_df.columns.tolist()\n",
        "\n",
        "# Auxiliary parameteres for figure\n",
        "n_vars = len(all_variables) - 1\n",
        "n_row = np.ceil(np.sqrt(n_vars))\n",
        "i = 1\n",
        "\n",
        "fig = plt.figure(figsize=(15, 12))\n",
        "\n",
        "for var in all_variables:\n",
        "    if var != 'categorical_imdb_score':\n",
        "        ax = fig.add_subplot(n_row, n_row, i)\n",
        "        sns.countplot(x='categorical_imdb_score', hue=var, data=genres_df)\n",
        "        plt.xlabel(\"\")\n",
        "        i += 1\n",
        "fig.tight_layout(pad=.5)\n",
        "plt.show()"
      ]
    },
    {
      "cell_type": "markdown",
      "metadata": {
        "id": "fSKxtEBqOucj",
        "colab_type": "text"
      },
      "source": [
        "### ```plot_keywords```"
      ]
    },
    {
      "cell_type": "code",
      "metadata": {
        "id": "lajSGJz-PEKz",
        "colab_type": "code",
        "colab": {
          "base_uri": "https://localhost:8080/",
          "height": 34
        },
        "outputId": "4d2d22fb-d98c-4f28-ee2c-a8bc375118a6"
      },
      "source": [
        "# plot_keywords in list of lists\n",
        "keywords_list = imdb['plot_keywords'].str.split('|').tolist()\n",
        "\n",
        "# For each list replace space character by '-', if nan then replace by 'nan' \n",
        "# string\n",
        "clean_keywords = list()\n",
        "for line in keywords_list:\n",
        "  if line is np.nan:\n",
        "    clean_line = 'nan'\n",
        "  else:\n",
        "    clean_line = list()\n",
        "    for word in line:\n",
        "      clean_line.append(word.replace(' ', '-'))\n",
        "  clean_keywords.append(clean_line)\n",
        "\n",
        "# Unique plot_keywords\n",
        "unique_keywords = set(list(itertools.chain.from_iterable(clean_keywords)))\n",
        "\n",
        "len(unique_keywords)"
      ],
      "execution_count": null,
      "outputs": []
    },
    {
      "cell_type": "markdown",
      "metadata": {
        "id": "6w0hutLhHSOf",
        "colab_type": "text"
      },
      "source": [
        "## Analysis of ```imdb_score``` variables"
      ]
    },
    {
      "cell_type": "code",
      "execution_count": null,
      "metadata": {
        "colab": {},
        "colab_type": "code",
        "id": "OKBbYBabHSOh"
      },
      "outputs": [],
      "source": [
        "# Distribution of imdb_score\n",
        "hist = ggplot(imdb, aes(x='imdb_score')) +\\\n",
        "    geom_histogram()\n",
        "\n",
        "qq_plot = ggplot(imdb, aes(sample='imdb_score')) +\\\n",
        "    geom_qq() +\\\n",
        "    geom_qq_line()\n",
        "\n",
        "print(hist)\n",
        "print(qq_plot)"
      ]
    },
    {
      "cell_type": "markdown",
      "metadata": {
        "id": "IoQ6XzaTHSOo",
        "colab_type": "text"
      },
      "source": [
        "As we see the above, the distribution of ```imdb_score``` is not even close to normal, let's apply the Boxcox transformation to approximate to the normal distribution "
      ]
    },
    {
      "cell_type": "code",
      "metadata": {
        "id": "s3xLJkOmHSOp",
        "colab_type": "code",
        "outputId": "bc96eaf0-5303-4962-c54a-09d8adf8b8b9",
        "colab": {}
      },
      "source": [
        "# Boxcox transformation of imdb_score\n",
        "bc = stats.boxcox(np.array(imdb['imdb_score']))\n",
        "imdb['bc_imdb_score'] = bc[0]\n",
        "\n",
        "# Lambda value\n",
        "bc[1]"
      ],
      "execution_count": null,
      "outputs": []
    },
    {
      "cell_type": "code",
      "metadata": {
        "id": "gHZ1ElaQHSOw",
        "colab_type": "code",
        "outputId": "5a41abcb-eb8c-477c-a257-ef4764e8a7ac",
        "colab": {}
      },
      "source": [
        "# Distribution of bc_imdb_score\n",
        "hist = ggplot(imdb, aes(x='bc_imdb_score')) +\\\n",
        "    geom_histogram()\n",
        "\n",
        "qq_plot = ggplot(imdb, aes(sample='bc_imdb_score')) +\\\n",
        "    geom_qq() +\\\n",
        "    geom_qq_line()\n",
        "\n",
        "print(hist)\n",
        "print(qq_plot)\n"
      ],
      "execution_count": null,
      "outputs": []
    },
    {
      "cell_type": "code",
      "metadata": {
        "id": "YFihBW2WHSO2",
        "colab_type": "code",
        "outputId": "27138508-6bd6-4a09-acda-65366c73374b",
        "colab": {}
      },
      "source": [
        "# Distribution of categorical_imdb_score\n",
        "imdb['categorical_imdb_score'].value_counts()"
      ],
      "execution_count": null,
      "outputs": []
    },
    {
      "cell_type": "markdown",
      "metadata": {
        "id": "u3Z2fKAPHSO7",
        "colab_type": "text"
      },
      "source": [
        "## Relation between ```categorical_imdb_score``` and other variables"
      ]
    },
    {
      "cell_type": "markdown",
      "metadata": {
        "id": "wz_L9nTcHSO8",
        "colab_type": "text"
      },
      "source": [
        "### Categorical variables"
      ]
    },
    {
      "cell_type": "code",
      "execution_count": null,
      "metadata": {},
      "outputs": [],
      "source": [
        "# Selecting only categorical variables\n",
        "categorical = imdb.select_dtypes(include=['object'])\n",
        "\n",
        "# Numer of unique values of categorical variables\n",
        "for var in categorical:\n",
        "    unique_values = list(set(imdb[var]))\n",
        "    print(var + ':', len(unique_values))"
      ]
    },
    {
      "cell_type": "markdown",
      "metadata": {},
      "source": [
        "let's analize the influence of each level of the categorical variables in response to ```categorical_imdb_score```"
      ]
    },
    {
      "cell_type": "markdown",
      "metadata": {},
      "source": [
        "#### ```aspect_ratio```"
      ]
    },
    {
      "cell_type": "code",
      "execution_count": null,
      "metadata": {},
      "outputs": [],
      "source": [
        "ggplot(aes(x='categorical_imdb_score', fill='aspect_ratio'), data=imdb) +\\\n",
        "    geom_bar(position='fill')"
      ]
    },
    {
      "cell_type": "markdown",
      "metadata": {},
      "source": [
        "#### ```content_rating```"
      ]
    },
    {
      "cell_type": "code",
      "execution_count": null,
      "metadata": {},
      "outputs": [],
      "source": [
        "ggplot(aes(x='categorical_imdb_score', fill='content_rating'), data=imdb) +\\\n",
        "    geom_bar(position='fill')"
      ]
    },
    {
      "cell_type": "markdown",
      "metadata": {},
      "source": [
        "Let's try to work with four groups in ```content_rating``` variable:\n",
        "- PG-13\n",
        "- R\n",
        "- PG\n",
        "- Other"
      ]
    },
    {
      "cell_type": "code",
      "execution_count": null,
      "metadata": {},
      "outputs": [],
      "source": [
        "# Change the values in content_rating\n",
        "for i in range(0, len(imdb)): \n",
        "    if imdb['content_rating'][i] not in ['PG-13', 'R', 'PG']:\n",
        "        imdb['content_rating'][i] = 'Other'"
      ]
    },
    {
      "cell_type": "code",
      "execution_count": null,
      "metadata": {},
      "outputs": [],
      "source": [
        "ggplot(aes(x='categorical_imdb_score', fill='content_rating'), data=imdb) +\\\n",
        "    geom_bar(position='fill')"
      ]
    },
    {
      "cell_type": "markdown",
      "metadata": {},
      "source": [
        "#### ```language```"
      ]
    },
    {
      "cell_type": "code",
      "execution_count": null,
      "metadata": {},
      "outputs": [],
      "source": [
        "ggplot(aes(x='categorical_imdb_score', fill='language'), data=imdb) +\\\n",
        "    geom_bar(position='fill')"
      ]
    },
    {
      "cell_type": "markdown",
      "metadata": {},
      "source": [
        "When ```categorized_imdb_score``` grows the other languages appear more frequently. So let's work with 2 levels, \"English\" and \"Other\""
      ]
    },
    {
      "cell_type": "code",
      "execution_count": null,
      "metadata": {},
      "outputs": [],
      "source": [
        "# Change the values in language\n",
        "for i in range(0, len(imdb)): \n",
        "    if imdb['language'][i] not in ['English']:\n",
        "        imdb['language'][i] = 'Other'"
      ]
    },
    {
      "cell_type": "code",
      "execution_count": null,
      "metadata": {},
      "outputs": [],
      "source": [
        "ggplot(aes(x='categorical_imdb_score', fill='language'), data=imdb) +\\\n",
        "    geom_bar(position='fill')"
      ]
    },
    {
      "cell_type": "markdown",
      "metadata": {},
      "source": [
        "#### ```country```"
      ]
    },
    {
      "cell_type": "code",
      "execution_count": null,
      "metadata": {},
      "outputs": [],
      "source": [
        "# Distribution of country\n",
        "imdb['country'].value_counts().head(10)"
      ]
    },
    {
      "cell_type": "code",
      "execution_count": null,
      "metadata": {},
      "outputs": [],
      "source": [
        "# Agrouping levels\n",
        "imdb_country = imdb.copy()\n",
        "\n",
        "# Change the values in country\n",
        "for i in range(0, len(imdb_country)): \n",
        "    if imdb_country['country'][i] not in ['USA', 'UK', 'France', 'Canada', 'Germany', 'Australia']:\n",
        "        imdb_country['country'][i] = 'Other'"
      ]
    },
    {
      "cell_type": "code",
      "execution_count": null,
      "metadata": {},
      "outputs": [],
      "source": [
        "ggplot(aes(x='categorical_imdb_score', fill='country'), data=imdb_country) +\\\n",
        "    geom_bar(position='fill')"
      ]
    },
    {
      "cell_type": "code",
      "execution_count": null,
      "metadata": {},
      "outputs": [],
      "source": [
        "imdb = imdb_country.copy()"
      ]
    },
    {
      "cell_type": "markdown",
      "metadata": {},
      "source": [
        "#### ```director_name```"
      ]
    },
    {
      "cell_type": "code",
      "execution_count": null,
      "metadata": {
        "tags": [
          "outputPrepend",
          "outputPrepend",
          "outputPrepend"
        ]
      },
      "outputs": [],
      "source": [
        "# Count the number of movies per director\n",
        "director_values = imdb['director_name'].value_counts()\n",
        "\n",
        "# Get the best k directors\n",
        "k = 5\n",
        "top_directors = list(director_values[:k].index)\n",
        "\n",
        "# Data to dummy directors\n",
        "director_dummy = imdb['director_name'].copy()\n",
        "\n",
        "for i in range(0, len(imdb)): \n",
        "    if director_dummy[i] not in top_directors:\n",
        "        director_dummy[i] = np.nan\n",
        "\n",
        "# Dummy variables of the directors\n",
        "director_dummy = director_dummy.str.get_dummies()\n",
        "\n",
        "director_values.head(k)"
      ]
    },
    {
      "cell_type": "code",
      "execution_count": null,
      "metadata": {},
      "outputs": [],
      "source": [
        "# Create DF with dummy variables and categorical_imdb_score\n",
        "director_df = pd.concat([imdb['categorical_imdb_score'], director_dummy], axis=1)\n",
        "\n",
        "# List of variables to generate the figure\n",
        "all_variables = director_df.columns.tolist()\n",
        "\n",
        "# Auxiliary parameteres for figure\n",
        "n_vars = len(all_variables) - 1\n",
        "n_row = np.ceil(np.sqrt(n_vars))\n",
        "i = 1\n",
        "\n",
        "fig = plt.figure(figsize=(10, 8))\n",
        "\n",
        "for var in all_variables:\n",
        "    if var != 'categorical_imdb_score':\n",
        "        ax = fig.add_subplot(n_row, n_row, i)\n",
        "        sns.countplot(x='categorical_imdb_score', hue=var, data=director_df)\n",
        "        plt.xlabel(\"\")\n",
        "        i += 1\n",
        "fig.tight_layout(pad=.5)\n",
        "plt.show()\n"
      ]
    },
    {
      "cell_type": "markdown",
      "metadata": {},
      "source": [
        "It's seems that the most frequent directors made movies with ```categorical_imdb_score``` 3 or above."
      ]
    },
    {
      "cell_type": "markdown",
      "metadata": {},
      "source": [
        "#### ```actor_1_name```"
      ]
    },
    {
      "cell_type": "code",
      "execution_count": null,
      "metadata": {},
      "outputs": [],
      "source": [
        "# Count the number of movies per actor_1_name\n",
        "actor1_values = imdb['actor_1_name'].value_counts()\n",
        "\n",
        "# Get the best k directors\n",
        "k = 5\n",
        "top_actors = list(actor1_values[:k].index)\n",
        "\n",
        "# Data to dummy directors\n",
        "actor1_dummy = imdb['actor_1_name'].copy()\n",
        "\n",
        "for i in range(0, len(imdb)): \n",
        "    if actor1_dummy[i] not in top_actors:\n",
        "        actor1_dummy[i] = np.nan\n",
        "\n",
        "# Dummy variables of the directors\n",
        "actor1_dummy = actor1_dummy.str.get_dummies()\n",
        "\n",
        "actor1_values.head(k)"
      ]
    },
    {
      "cell_type": "code",
      "execution_count": null,
      "metadata": {},
      "outputs": [],
      "source": [
        "# Create DF with dummy variables and categorical_imdb_score\n",
        "actor1_df = pd.concat([imdb['categorical_imdb_score'], actor1_dummy], axis=1)\n",
        "\n",
        "# List of variables to generate the figure\n",
        "all_variables = actor1_df.columns.tolist()\n",
        "\n",
        "# Auxiliary parameteres for figure\n",
        "n_vars = len(all_variables) - 1\n",
        "n_row = np.ceil(np.sqrt(n_vars))\n",
        "i = 1\n",
        "\n",
        "fig = plt.figure(figsize=(10, 8))\n",
        "\n",
        "for var in all_variables:\n",
        "    if var != 'categorical_imdb_score':\n",
        "        ax = fig.add_subplot(n_row, n_row, i)\n",
        "        sns.countplot(x='categorical_imdb_score', hue=var, data=actor1_df)\n",
        "        plt.xlabel(\"\")\n",
        "        i += 1\n",
        "fig.tight_layout(pad=.5)\n",
        "plt.show()"
      ]
    },
    {
      "cell_type": "markdown",
      "metadata": {},
      "source": [
        "### Quantitative variables"
      ]
    },
    {
      "cell_type": "markdown",
      "metadata": {},
      "source": [
        "Before explore the relation between ```categorical_imdb_score``` and quantitative variables, let's check their distribution"
      ]
    },
    {
      "cell_type": "code",
      "execution_count": null,
      "metadata": {},
      "outputs": [],
      "source": [
        "# Selecting quantitative variables\n",
        "quantitative = imdb.select_dtypes(include=['float64', 'int64']).drop(['imdb_score', 'bc_imdb_score', 'categorical_imdb_score'], axis=1)\n",
        "\n",
        "# List of variables to plot\n",
        "quantitative_vars = quantitative.columns.tolist()\n",
        "\n",
        "quantitative_vars"
      ]
    },
    {
      "cell_type": "markdown",
      "metadata": {},
      "source": [
        "#### Distribution of quantative variables"
      ]
    },
    {
      "cell_type": "code",
      "execution_count": null,
      "metadata": {},
      "outputs": [],
      "source": [
        "# Auxiliary parameteres for figure\n",
        "n_vars = len(quantitative_vars)\n",
        "n_row = np.ceil(np.sqrt(n_vars))\n",
        "i = 1\n",
        "\n",
        "fig = plt.figure(figsize=(14, 10))\n",
        "\n",
        "for var in quantitative_vars:\n",
        "        ax = fig.add_subplot(n_row, n_row, i)\n",
        "        sns.distplot(quantitative[var], kde=False)\n",
        "        i += 1\n",
        "fig.tight_layout(pad=.5)\n",
        "plt.show()"
      ]
    },
    {
      "cell_type": "markdown",
      "metadata": {},
      "source": [
        "The distribution of variables is very tailored, so let's apply log transformation to get closer to normal distribution"
      ]
    },
    {
      "cell_type": "code",
      "execution_count": null,
      "metadata": {},
      "outputs": [],
      "source": [
        "# Transforming to log scale\n",
        "log_quantitative = quantitative.transform(lambda x: np.log(x + 0.0001))\n",
        "\n",
        "# List of variables to plot\n",
        "quantitative_vars = log_quantitative.columns.tolist()\n",
        "\n",
        "quantitative_vars"
      ]
    },
    {
      "cell_type": "code",
      "execution_count": null,
      "metadata": {},
      "outputs": [],
      "source": [
        "# Auxiliary parameteres for figure\n",
        "i = 1\n",
        "\n",
        "fig = plt.figure(figsize=(14, 10))\n",
        "\n",
        "for var in quantitative_vars:\n",
        "        ax = fig.add_subplot(n_row, n_row, i)\n",
        "        sns.distplot(log_quantitative[var], kde=False)\n",
        "        i += 1\n",
        "fig.tight_layout(pad=.5)\n",
        "plt.show()"
      ]
    },
    {
      "cell_type": "markdown",
      "metadata": {},
      "source": [
        "#### Relation between ```categorical_imdb_score``` and quantitative variables"
      ]
    },
    {
      "cell_type": "code",
      "metadata": {
        "id": "Kzn6JLRCHSPC",
        "colab_type": "code",
        "outputId": "4d71d173-4564-4141-9129-3397432bcf4f",
        "colab": {}
      },
      "source": [
        "# Adding categorical_imdb_score after processing the other variables\n",
        "log_quantitative_df = pd.concat([imdb['categorical_imdb_score'], log_quantitative], axis=1)\n",
        "\n",
        "# Auxiliary parameteres for figure\n",
        "i = 1\n",
        "\n",
        "fig = plt.figure(figsize=(15, 12))\n",
        "\n",
        "for var in quantitative_vars:\n",
        "    if var != 'categorical_imdb_score':\n",
        "        ax = fig.add_subplot(n_row, n_row, i)\n",
        "        sns.boxplot(x='categorical_imdb_score', y=var, data=log_quantitative_df)\n",
        "        plt.xlabel(\"\")\n",
        "        i += 1\n",
        "fig.tight_layout(pad=.8)\n",
        "plt.show()"
      ],
      "execution_count": null,
      "outputs": []
    },
    {
      "cell_type": "markdown",
      "metadata": {},
      "source": [
        "Notice that a few variables are related to values of ```categorical_imdb_score``` such as:\n",
        "- ```num_critic_for_reviews```\n",
        "- ```duration```\n",
        "- ```director_facebook_likes```\n",
        "- ```gross```\n",
        "- ```num_voted_users```\n",
        "- ```num_users_for_reviews```\n",
        "- ```title_year```\n",
        "- ```movie_facebook_likes```\n",
        "\n",
        "And other can be related:\n",
        "- ```actor_3_facebook_likes```\n",
        "- ```actor_1_facebook_likes```\n",
        "- ```budget```\n",
        "- ```actor_2_facebook_likes```"
      ]
    }
  ],
  "metadata": {
    "language_info": {
      "codemirror_mode": {
        "name": "ipython",
        "version": 3
      },
      "file_extension": ".py",
      "mimetype": "text/x-python",
      "name": "python",
      "nbconvert_exporter": "python",
      "pygments_lexer": "ipython3",
      "version": "3.6.9-final"
    },
    "orig_nbformat": 2,
    "kernelspec": {
      "name": "python36964bitprogramariavenv04140dd936574a25b47b053b6421ea9c",
      "display_name": "Python 3.6.9 64-bit ('programaria': venv)"
    },
    "colab": {
      "name": "eda.ipynb",
      "provenance": [],
      "collapsed_sections": [],
      "toc_visible": true
    }
  },
  "nbformat": 4,
  "nbformat_minor": 0
}